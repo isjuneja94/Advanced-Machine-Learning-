{
  "nbformat": 4,
  "nbformat_minor": 0,
  "metadata": {
    "kernelspec": {
      "name": "python3",
      "display_name": "Python 3"
    },
    "language_info": {
      "codemirror_mode": {
        "name": "ipython",
        "version": 3
      },
      "file_extension": ".py",
      "mimetype": "text/x-python",
      "name": "python",
      "nbconvert_exporter": "python",
      "pygments_lexer": "ipython3",
      "version": "3.6.8"
    },
    "colab": {
      "name": "HW4.ipynb",
      "provenance": [],
      "collapsed_sections": []
    },
    "accelerator": "GPU"
  },
  "cells": [
    {
      "cell_type": "markdown",
      "metadata": {
        "id": "VdGag7Q98uuA"
      },
      "source": [
        "Advanced Machine Learning Assignment\n",
        "# Assignment 4: Fully-Connected Networks and Convoluntional Neural Networks\n"
      ]
    },
    {
      "cell_type": "markdown",
      "metadata": {
        "id": "G7vN9PE-ZFvg"
      },
      "source": [
        "# Section 0 Environment Set Up"
      ]
    },
    {
      "cell_type": "markdown",
      "metadata": {
        "id": "spSfhOtQX8WK"
      },
      "source": [
        "In this homework, you will need to use **GPU** to accelerate your training process. Thus, please set up the **runtime type**.\n",
        "\n",
        "**Runtime -> Change Runtime type -> Hardware Accelerator -> GPU**"
      ]
    },
    {
      "cell_type": "code",
      "metadata": {
        "id": "fWT6gOe1J2zB",
        "colab": {
          "base_uri": "https://localhost:8080/",
          "height": 217
        },
        "outputId": "a38183a4-e6a0-44cd-b83b-75f6e0035ccd"
      },
      "source": [
        "! pip install scipy==1.1.0"
      ],
      "execution_count": null,
      "outputs": [
        {
          "output_type": "stream",
          "text": [
            "Collecting scipy==1.1.0\n",
            "\u001b[?25l  Downloading https://files.pythonhosted.org/packages/a8/0b/f163da98d3a01b3e0ef1cab8dd2123c34aee2bafbb1c5bffa354cc8a1730/scipy-1.1.0-cp36-cp36m-manylinux1_x86_64.whl (31.2MB)\n",
            "\u001b[K     |████████████████████████████████| 31.2MB 101kB/s \n",
            "\u001b[?25hRequirement already satisfied: numpy>=1.8.2 in /usr/local/lib/python3.6/dist-packages (from scipy==1.1.0) (1.18.2)\n",
            "\u001b[31mERROR: tensorflow 2.2.0rc2 has requirement scipy==1.4.1; python_version >= \"3\", but you'll have scipy 1.1.0 which is incompatible.\u001b[0m\n",
            "\u001b[31mERROR: plotnine 0.6.0 has requirement scipy>=1.2.0, but you'll have scipy 1.1.0 which is incompatible.\u001b[0m\n",
            "\u001b[31mERROR: albumentations 0.1.12 has requirement imgaug<0.2.7,>=0.2.5, but you'll have imgaug 0.2.9 which is incompatible.\u001b[0m\n",
            "Installing collected packages: scipy\n",
            "  Found existing installation: scipy 1.4.1\n",
            "    Uninstalling scipy-1.4.1:\n",
            "      Successfully uninstalled scipy-1.4.1\n",
            "Successfully installed scipy-1.1.0\n"
          ],
          "name": "stdout"
        }
      ]
    },
    {
      "cell_type": "markdown",
      "metadata": {
        "id": "_Pja5zjFXwTp"
      },
      "source": [
        "Mount your google drive in google colab"
      ]
    },
    {
      "cell_type": "code",
      "metadata": {
        "id": "mdVPU9EUXvij",
        "colab": {
          "base_uri": "https://localhost:8080/",
          "height": 120
        },
        "outputId": "a2a0ad96-aef5-4e40-d534-a9483a653334"
      },
      "source": [
        "from google.colab import drive\n",
        "drive.mount('/content/gdrive/')"
      ],
      "execution_count": null,
      "outputs": [
        {
          "output_type": "stream",
          "text": [
            "Go to this URL in a browser: https://accounts.google.com/o/oauth2/auth?client_id=947318989803-6bn6qk8qdgf4n4g3pfee6491hc0brc4i.apps.googleusercontent.com&redirect_uri=urn%3aietf%3awg%3aoauth%3a2.0%3aoob&response_type=code&scope=email%20https%3a%2f%2fwww.googleapis.com%2fauth%2fdocs.test%20https%3a%2f%2fwww.googleapis.com%2fauth%2fdrive%20https%3a%2f%2fwww.googleapis.com%2fauth%2fdrive.photos.readonly%20https%3a%2f%2fwww.googleapis.com%2fauth%2fpeopleapi.readonly\n",
            "\n",
            "Enter your authorization code:\n",
            "··········\n",
            "Mounted at /content/gdrive/\n"
          ],
          "name": "stdout"
        }
      ]
    },
    {
      "cell_type": "markdown",
      "metadata": {
        "id": "vg6RLG8AX73v"
      },
      "source": [
        "Append the directory to your python path using sys.\n",
        "\n",
        "Please do modify the `customized_path_to_your_homework` to where you uploaded your homework in the Google Drive"
      ]
    },
    {
      "cell_type": "code",
      "metadata": {
        "id": "HwSblWSIX-qM"
      },
      "source": [
        "import sys\n",
        "import os\n",
        "prefix = '/content/gdrive/My Drive/'\n",
        "# modify \"customized_path_to_your_homework\" here to where you uploaded your homework\n",
        "customized_path_to_your_homework = 'HW4/HW4'\n",
        "sys_path = os.path.join(prefix, customized_path_to_your_homework)\n",
        "sys.path.append(sys_path)"
      ],
      "execution_count": null,
      "outputs": []
    },
    {
      "cell_type": "markdown",
      "metadata": {
        "id": "r9MOHcS5y_fn"
      },
      "source": [
        "# Section 1 Pytorch basics"
      ]
    },
    {
      "cell_type": "markdown",
      "metadata": {
        "id": "AGXAFq_jy1FI"
      },
      "source": [
        "Simply put, PyTorch is a **Tensor** library like Numpy. These two libraries similarly provide useful and efficient APIs for you to deal with your tensor data. What really differentiate PyTorch from Numpy are the following two features:\n",
        "1. Numerical operations that can **run on GPUs** (more than 10x speedup)\n",
        "2. Automatic differentiation for building and training neural networks\n",
        "\n",
        "In this section, we will walk through some simple example, and see how the automatic differentiation functionality can make your life much easier."
      ]
    },
    {
      "cell_type": "markdown",
      "metadata": {
        "id": "dUem7BTxy1Fc"
      },
      "source": [
        "## 1.1. `nn` Module\n",
        "Computational graphs and autograd are a very powerful paradigm for defining complex operators and automatically taking derivatives; however for large neural networks raw autograd can be a bit too low-level.\n",
        "\n",
        "When building neural networks we frequently think of arranging the computation into layers, some of which have learnable parameters which will be optimized during learning.\n",
        "\n",
        "In PyTorch, the nn package serves this purpose. The nn package defines a set of Modules, which are roughly equivalent to neural network layers. A Module receives input Tensors and computes output Tensors, but may also hold internal state such as Tensors containing learnable parameters. The nn package also defines a set of useful loss functions that are commonly used when training neural networks.\n",
        "\n",
        "Now, let's see how our simple NN could be implemented using the nn module."
      ]
    },
    {
      "cell_type": "code",
      "metadata": {
        "id": "80l5DvfCy1Fe",
        "colab": {
          "base_uri": "https://localhost:8080/",
          "height": 100
        },
        "outputId": "ae50ef16-1d6b-472d-c116-30ff443c4fd3"
      },
      "source": [
        "import torch\n",
        "import torch.nn as nn\n",
        "# N is batch size; D_in is input dimension;\n",
        "# H is hidden dimension; D_out is output dimension.\n",
        "N, D_in, H, D_out = 64, 1000, 100, 10\n",
        "\n",
        "# Create random Tensors to hold inputs and outputs\n",
        "x = torch.randn(N, D_in)\n",
        "y = torch.randn(N, D_out)\n",
        "\n",
        "# Use the nn package to define our model as a sequence of layers. nn.Sequential\n",
        "# is a Module which contains other Modules, and applies them in sequence to\n",
        "# produce its output. Each Linear Module computes output from input using a\n",
        "# linear function, and holds internal Tensors for its weight and bias.\n",
        "model = nn.Sequential(\n",
        "    nn.Linear(D_in, H),\n",
        "    nn.ReLU(),\n",
        "    nn.Linear(H, D_out),\n",
        ")\n",
        "\n",
        "# The nn package also contains definitions of popular loss functions; in this\n",
        "# case we will use Mean Squared Error (MSE) as our loss function.\n",
        "loss_fn = nn.MSELoss(reduction='sum')\n",
        "\n",
        "learning_rate = 1e-4\n",
        "for t in range(500):\n",
        "    # Forward pass: compute predicted y by passing x to the model. Module objects\n",
        "    # override the __call__ operator so you can call them like functions. When\n",
        "    # doing so you pass a Tensor of input data to the Module and it produces\n",
        "    # a Tensor of output data.\n",
        "    y_pred = model(x)\n",
        "\n",
        "\n",
        "    # Compute and print loss. We pass Tensors containing the predicted and true\n",
        "    # values of y, and the loss function returns a Tensor containing the\n",
        "    # loss.\n",
        "    loss = loss_fn(y_pred, y)\n",
        "    if t % 100 == 99:\n",
        "        print(f'iteration {t}: {loss.item()}')\n",
        "\n",
        "    # Zero the gradients before running the backward pass.\n",
        "    model.zero_grad()\n",
        "\n",
        "    # Backward pass: compute gradient of the loss with respect to all the learnable\n",
        "    # parameters of the model. Internally, the parameters of each Module are stored\n",
        "    # in Tensors with requires_grad=True, so this call will compute gradients for\n",
        "    # all learnable parameters in the model.\n",
        "    loss.backward()\n",
        "\n",
        "    # Update the weights using gradient descent. Each parameter is a Tensor, so\n",
        "    # we can access its gradients like we did before.\n",
        "    with torch.no_grad():\n",
        "        for param in model.parameters():\n",
        "            param -= learning_rate * param.grad"
      ],
      "execution_count": null,
      "outputs": [
        {
          "output_type": "stream",
          "text": [
            "iteration 99: 2.0201845169067383\n",
            "iteration 199: 0.037375327199697495\n",
            "iteration 299: 0.00191470084246248\n",
            "iteration 399: 0.00014480709796771407\n",
            "iteration 499: 1.2275126209715381e-05\n"
          ],
          "name": "stdout"
        }
      ]
    },
    {
      "cell_type": "markdown",
      "metadata": {
        "id": "QMdlC7Xey1Fi"
      },
      "source": [
        "So far, we have been updating the model parameters manually with `torch.no_grad()`. However, if we want to use optimization algorithms other than SGD, it might get a bit nasty to do it manually. Instead of manually doing this, we can use `optim` pacakge to help optimize our model: "
      ]
    },
    {
      "cell_type": "code",
      "metadata": {
        "id": "6TZ8zOGEy1Fi",
        "colab": {
          "base_uri": "https://localhost:8080/",
          "height": 100
        },
        "outputId": "925ae1ca-98a5-4852-80de-3395001adfea"
      },
      "source": [
        "N, D_in, H, D_out = 64, 1000, 100, 10\n",
        "\n",
        "# Create random Tensors to hold inputs and outputs\n",
        "x = torch.randn(N, D_in)\n",
        "y = torch.randn(N, D_out)\n",
        "\n",
        "# Use the nn package to define our model and loss function.\n",
        "model = nn.Sequential(\n",
        "    nn.Linear(D_in, H),\n",
        "    nn.ReLU(),\n",
        "    nn.Linear(H, D_out),\n",
        ")\n",
        "loss_fn = torch.nn.MSELoss(reduction='sum')\n",
        "\n",
        "# Use the optim package to define an Optimizer that will update the weights of\n",
        "# the model for us. \n",
        "learning_rate = 1e-4\n",
        "optimizer = torch.optim.SGD(model.parameters(), lr=learning_rate)\n",
        "for t in range(500):\n",
        "    # Forward pass: compute predicted y by passing x to the model.\n",
        "    y_pred = model(x)\n",
        "\n",
        "    # Compute and print loss.\n",
        "    loss = loss_fn(y_pred, y)\n",
        "    if t % 100 == 99:\n",
        "        print(f'iteration {t}: {loss.item()}')\n",
        "\n",
        "    # Before the backward pass, use the optimizer object to zero all of the\n",
        "    # gradients for the variables it will update (which are the learnable\n",
        "    # weights of the model). This is because by default, gradients are\n",
        "    # accumulated in buffers( i.e, not overwritten) whenever .backward()\n",
        "    # is called. Checkout docs of torch.autograd.backward for more details.\n",
        "    optimizer.zero_grad()\n",
        "\n",
        "    # Backward pass: compute gradient of the loss with respect to model\n",
        "    # parameters\n",
        "    loss.backward()\n",
        "\n",
        "    # Calling the step function on an Optimizer makes an update to its\n",
        "    # parameters\n",
        "    optimizer.step()"
      ],
      "execution_count": null,
      "outputs": [
        {
          "output_type": "stream",
          "text": [
            "iteration 99: 2.1841070652008057\n",
            "iteration 199: 0.02455112524330616\n",
            "iteration 299: 0.0006979845929890871\n",
            "iteration 399: 2.9736311262240633e-05\n",
            "iteration 499: 1.5952685998854577e-06\n"
          ],
          "name": "stdout"
        }
      ]
    },
    {
      "cell_type": "markdown",
      "metadata": {
        "id": "DZYEUnVNy1Fm"
      },
      "source": [
        "Sometimes you will want to specify models that are more complex than a sequence of existing Modules; for these cases you can define your own Modules by subclassing nn.Module and defining a forward which receives input Tensors and produces output Tensors using other modules or other autograd operations on Tensors.\n",
        "\n",
        "For example, we can implement our 2-layer simple NN as the following:"
      ]
    },
    {
      "cell_type": "code",
      "metadata": {
        "id": "7HCZMJy6y1Fn",
        "colab": {
          "base_uri": "https://localhost:8080/",
          "height": 100
        },
        "outputId": "1ad6f5d2-01fc-4c03-f8c1-be32390e4836"
      },
      "source": [
        "class TwoLayerNet(nn.Module):\n",
        "    def __init__(self, D_in, H, D_out):\n",
        "        \"\"\"\n",
        "        In the constructor we instantiate two nn.Linear modules and assign them as\n",
        "        member variables.\n",
        "        \"\"\"\n",
        "        super(TwoLayerNet, self).__init__()\n",
        "        self.linear1 = nn.Linear(D_in, H)\n",
        "        self.linear2 = nn.Linear(H, D_out)\n",
        "\n",
        "    def forward(self, x):\n",
        "        \"\"\"\n",
        "        In the forward function we accept a Tensor of input data and we must return\n",
        "        a Tensor of output data. We can use Modules defined in the constructor as\n",
        "        well as arbitrary operators on Tensors.\n",
        "        \"\"\"\n",
        "        h_relu = self.linear1(x).clamp(min=0)\n",
        "        y_pred = self.linear2(h_relu)\n",
        "        return y_pred\n",
        "\n",
        "\n",
        "# N is batch size; D_in is input dimension;\n",
        "# H is hidden dimension; D_out is output dimension.\n",
        "N, D_in, H, D_out = 64, 1000, 100, 10\n",
        "\n",
        "# Create random Tensors to hold inputs and outputs\n",
        "x = torch.randn(N, D_in)\n",
        "y = torch.randn(N, D_out)\n",
        "\n",
        "# Construct our model by instantiating the class defined above\n",
        "model = TwoLayerNet(D_in, H, D_out)\n",
        "\n",
        "# Construct our loss function and an Optimizer. The call to model.parameters()\n",
        "# in the SGD constructor will contain the learnable parameters of the two\n",
        "# nn.Linear modules which are members of the model.\n",
        "criterion = nn.MSELoss(reduction='sum')\n",
        "optimizer = torch.optim.SGD(model.parameters(), lr=1e-4)\n",
        "for t in range(500):\n",
        "    # Forward pass: Compute predicted y by passing x to the model\n",
        "    y_pred = model(x)\n",
        "\n",
        "    # Compute and print loss\n",
        "    loss = criterion(y_pred, y)\n",
        "    if t % 100 == 99:\n",
        "        print(f'iteration {t}: {loss.item()}')\n",
        "\n",
        "    # Zero gradients, perform a backward pass, and update the weights.\n",
        "    optimizer.zero_grad()\n",
        "    loss.backward()\n",
        "    optimizer.step()"
      ],
      "execution_count": null,
      "outputs": [
        {
          "output_type": "stream",
          "text": [
            "iteration 99: 1.9060227870941162\n",
            "iteration 199: 0.03743543103337288\n",
            "iteration 299: 0.0018738838844001293\n",
            "iteration 399: 0.00011590263602556661\n",
            "iteration 499: 7.802081199770328e-06\n"
          ],
          "name": "stdout"
        }
      ]
    },
    {
      "cell_type": "markdown",
      "metadata": {
        "id": "ZV3j4I-NpK8N"
      },
      "source": [
        "# Section 2 Fully-Connected Networks"
      ]
    },
    {
      "cell_type": "markdown",
      "metadata": {
        "id": "_CJPm69ey1Fp"
      },
      "source": [
        "## 2.1 Dowload Two-moon datasets\n",
        "Now, let's use PyTorch to solve some synthetic datasets. In previous assignment, we have to write some codes to create training batches. Again, this can also be done with PyTorch `DataLoader`. The `DataLoader` utilizes parallel workers to read and prepare batches for you, which can greatly speedup the code when your time bottleneck is on file I/O.\n",
        "\n",
        "Here, we show a simple example that can create a dataloader from numpy data:"
      ]
    },
    {
      "cell_type": "code",
      "metadata": {
        "id": "gW9GyhyRy1Fq",
        "colab": {
          "base_uri": "https://localhost:8080/",
          "height": 265
        },
        "outputId": "21a96f9c-339b-4a37-cbff-132dab2ca293"
      },
      "source": [
        "import numpy as np\n",
        "import matplotlib.pyplot as plt\n",
        "\n",
        "current_path = prefix + customized_path_to_your_homework\n",
        "X_train = np.loadtxt(current_path + '/data/X1_train.csv', delimiter=',')\n",
        "X_test = np.loadtxt(current_path + '/data/X1_test.csv', delimiter=',')\n",
        "y_train = np.loadtxt(current_path + '/data/y1_train.csv', delimiter=',')\n",
        "y_test = np.loadtxt(current_path + '/data/y1_test.csv', delimiter=',')\n",
        "\n",
        "# Plot it to see why is it called two-moon dataset\n",
        "plt.scatter(X_train[:, 0], X_train[:, 1], c=y_train);"
      ],
      "execution_count": null,
      "outputs": [
        {
          "output_type": "display_data",
          "data": {
            "image/png": "[encoded data removed]",
            "text/plain": [
              "<Figure size 432x288 with 1 Axes>"
            ]
          },
          "metadata": {
            "tags": []
          }
        }
      ]
    },
    {
      "cell_type": "markdown",
      "metadata": {
        "id": "zat4g8D_5lJ6"
      },
      "source": [
        "Now, let's create a PyTorch `DataLoader`:"
      ]
    },
    {
      "cell_type": "code",
      "metadata": {
        "id": "xwzdiveS1bad"
      },
      "source": [
        "from torch.utils.data import TensorDataset, DataLoader\n",
        "batch_size = 64 # mini-batch size\n",
        "num_workers = 4 # how many parallel workers are we gonna use for reading data\n",
        "shuffle = True # shuffle the dataset\n",
        "\n",
        "# Convert numpy array import torch tensor\n",
        "X_val = torch.FloatTensor(X_train[500:])\n",
        "X_train = torch.FloatTensor(X_train[:500])\n",
        "X_test = torch.FloatTensor(X_test)\n",
        "y_val = torch.LongTensor(y_train.reshape(-1, 1)[500:])\n",
        "y_train = torch.LongTensor(y_train.reshape(-1, 1)[:500])\n",
        "y_test = torch.LongTensor(y_test.reshape(-1, 1))\n",
        "\n",
        "# First, create a dataset from torch tensor. A dataset define how to read data\n",
        "# and process data for creating mini-batches.\n",
        "train_dataset = TensorDataset(X_train, y_train)\n",
        "train_loader = DataLoader(train_dataset, batch_size=batch_size, \n",
        "                          num_workers=num_workers, shuffle=shuffle)"
      ],
      "execution_count": null,
      "outputs": []
    },
    {
      "cell_type": "markdown",
      "metadata": {
        "id": "ziQ76ZNZ53b_"
      },
      "source": [
        "Below, we provide a simple example on how to train your model with this dataloader:"
      ]
    },
    {
      "cell_type": "code",
      "metadata": {
        "id": "nwqKPYoa4Vgm",
        "colab": {
          "base_uri": "https://localhost:8080/",
          "height": 100
        },
        "outputId": "b48efedf-e921-4b4a-bd1c-257754e6c5ae"
      },
      "source": [
        "epoch = 5 # an epoch means looping through all the data in the datasets\n",
        "lr = 1e-1\n",
        "\n",
        "# create a simple model that is probably not gonna work well\n",
        "model = nn.Linear(X_train.size(1), 1)\n",
        "optim = torch.optim.SGD(model.parameters(), lr=lr)\n",
        "\n",
        "for e in range(epoch):\n",
        "    loss_epoch = 0\n",
        "    # loop through train loader to get x and y\n",
        "    for x, y in train_loader:\n",
        "        optim.zero_grad()\n",
        "        y_pred = model(x)\n",
        "        # !!WARNING!!\n",
        "        # THIS IS A CLASSIFICATION TASK, SO YOU SHOULD NOT\n",
        "        # USE THIS LOSS FUNCTION. \n",
        "        loss = (y_pred - y.float()).abs().mean()\n",
        "        loss.backward()\n",
        "        optim.step()\n",
        "        loss_epoch += loss.item()\n",
        "    print(f'Epcoh {e}: {loss_epoch}')"
      ],
      "execution_count": null,
      "outputs": [
        {
          "output_type": "stream",
          "text": [
            "Epcoh 0: 6.44906759262085\n",
            "Epcoh 1: 3.894591748714447\n",
            "Epcoh 2: 2.7337540090084076\n",
            "Epcoh 3: 2.27503964304924\n",
            "Epcoh 4: 2.136403039097786\n"
          ],
          "name": "stdout"
        }
      ]
    },
    {
      "cell_type": "markdown",
      "metadata": {
        "id": "vP4IA8fD6AzA"
      },
      "source": [
        "## 2.2 Your Simple NN [30 pts]\n",
        "Now, it is time for you to implement your own model for this classification task. Your job here is to:\n",
        "1. Complete the SimpleNN class. It should be a 2- or 3-layer NN with proper non-linearity.\n",
        "2. Train your model with SGD optimizer.\n",
        "3. Tune your model a bit so you can achieve at least 80% accuracy both on training set and validation set.\n",
        "Hint: you might want to look up `nn.ReLU`, `nn.Sigmoid`, `nn.BCELoss` in the [official document](https://pytorch.org/docs/stable/). You are allowed to freely pick the hyperparameters of your model."
      ]
    },
    {
      "cell_type": "code",
      "metadata": {
        "id": "kSJeOnJXy1F2"
      },
      "source": [
        "class SimpleNN(nn.Module):\n",
        "    \n",
        "    def __init__(self, D_in, H, D_out):\n",
        "        super(SimpleNN, self).__init__()\n",
        "        self.linear1 = nn.Linear(D_in, H)\n",
        "        self.linear2 = nn.Linear(H, D_out)\n",
        "        self.Sigmoid = nn.Sigmoid()\n",
        "        ################################################################################\n",
        "        # TODO:                                                                        #\n",
        "        # Construct your small feedforward NN here.                                    #\n",
        "        ################################################################################\n",
        "        \n",
        "        ################################################################################\n",
        "        #                                 END OF YOUR CODE                             #\n",
        "        ################################################################################\n",
        "        \n",
        "    def forward(self, x):\n",
        "      h_relu = self.linear1(x).clamp(min=0)\n",
        "      y_pred = self.linear2(h_relu)\n",
        "      y_pred = self.Sigmoid(y_pred)\n",
        "      return y_pred\n",
        "        ################################################################################\n",
        "        # TODO:                                                                        #\n",
        "        # feed the input to your network, and output the predictions.                  #\n",
        "        ################################################################################\n",
        "        \n",
        "        ################################################################################\n",
        "        #                                 END OF YOUR CODE                             #\n",
        "        ################################################################################"
      ],
      "execution_count": null,
      "outputs": []
    },
    {
      "cell_type": "code",
      "metadata": {
        "id": "hz2OOgcCy1F9"
      },
      "source": [
        "# helper function for computing accuracy\n",
        "def get_acc(pred, y):\n",
        "    pred = pred.float()\n",
        "    y = y.float()\n",
        "    return (y==pred).sum().float()/y.size(0)*100."
      ],
      "execution_count": null,
      "outputs": []
    },
    {
      "cell_type": "code",
      "metadata": {
        "id": "jafTWByTy1F5"
      },
      "source": [
        "def Solver(model, train_loader, optim, criterion, epoch=501, lr=1e-1, print_every=20):\n",
        "  '''\n",
        "  The solver function for training your model\n",
        "\n",
        "  model: your designed model\n",
        "  train_loader: data loader for training data\n",
        "  optim: SGD optimizer\n",
        "  criterion: criterion for calculating loss, i.e. nn.BCELoss\n",
        "  epoch: number of training epochs, an epoch means looping through all the data in the datasets\n",
        "  lr: training learning rate\n",
        "  print_every: number of epochs to print out loss and accuracies\n",
        "  '''\n",
        "  for e in range(epoch):\n",
        "      loss_epoch = 0\n",
        "      for x, y in train_loader:\n",
        "        optim.zero_grad()\n",
        "        y_pred = model(x)\n",
        "        # !!WARNING!!\n",
        "        # THIS IS A CLASSIFICATION TASK, SO YOU SHOULD NOT\n",
        "        # USE THIS LOSS FUNCTION. \n",
        "        loss = criterion(y_pred, y.float())\n",
        "        loss.backward()\n",
        "        optim.step()\n",
        "        loss_epoch += loss.item()\n",
        "      print(f'Epcoh {e}: {loss_epoch}')\n",
        "      ################################################################################\n",
        "      # TODO:                                                                        #\n",
        "      # Loop through the dataloader and train your model with nn.BCELoss.            #\n",
        "      ################################################################################\n",
        "      \n",
        "      ################################################################################\n",
        "      #                                 END OF YOUR CODE                             #\n",
        "      ################################################################################\n",
        "      if e % print_every == 0:\n",
        "          y_pred = (model(X_train) > 0.5)\n",
        "          train_acc = get_acc(y_pred, y_train)\n",
        "          y_val_pred = (model(X_val) > 0.5)\n",
        "          val_acc = get_acc(y_val_pred, y_val)  \n",
        "          print(f'Epcoh {e}: {loss_epoch}, Training accuracy: {train_acc}, Validation accuracy: {val_acc}')\n",
        "  return model"
      ],
      "execution_count": null,
      "outputs": []
    },
    {
      "cell_type": "code",
      "metadata": {
        "id": "FzOS5PHpD0jX",
        "colab": {
          "base_uri": "https://localhost:8080/",
          "height": 517
        },
        "outputId": "0269afc3-22c2-4280-8300-0aa418fdde2d"
      },
      "source": [
        "# create a simple model that is probably not gonna work well\n",
        "epoch=20\n",
        "lr=1e-1\n",
        "model = SimpleNN(X_train.size(1),10,y_train.size(1))\n",
        "\n",
        "criterion = nn.BCELoss(reduction='sum')\n",
        "optim = torch.optim.SGD(model.parameters(), lr=lr)\n",
        "################################################################################\n",
        "# TODO:                                                                        #\n",
        "# Initialize your model and SGD optimizer here.                                #\n",
        "################################################################################\n",
        "\n",
        "################################################################################\n",
        "#                                 END OF YOUR CODE                             #\n",
        "################################################################################\n",
        "\n",
        "# train your model\n",
        "model = Solver(model, train_loader, optim, criterion, epoch=epoch, lr=lr, print_every=2)"
      ],
      "execution_count": null,
      "outputs": [
        {
          "output_type": "stream",
          "text": [
            "Epcoh 0: 361.401086807251\n",
            "Epcoh 0: 361.401086807251, Training accuracy: 78.0, Validation accuracy: 74.5\n",
            "Epcoh 1: 305.31177711486816\n",
            "Epcoh 2: 207.1848487854004\n",
            "Epcoh 2: 207.1848487854004, Training accuracy: 64.0, Validation accuracy: 66.0\n",
            "Epcoh 3: 237.799578666687\n",
            "Epcoh 4: 191.73268699645996\n",
            "Epcoh 4: 191.73268699645996, Training accuracy: 81.0, Validation accuracy: 81.5\n",
            "Epcoh 5: 167.7392807006836\n",
            "Epcoh 6: 193.01467037200928\n",
            "Epcoh 6: 193.01467037200928, Training accuracy: 85.5999984741211, Validation accuracy: 83.5\n",
            "Epcoh 7: 196.19220733642578\n",
            "Epcoh 8: 170.63818454742432\n",
            "Epcoh 8: 170.63818454742432, Training accuracy: 85.79999542236328, Validation accuracy: 84.5\n",
            "Epcoh 9: 175.14173889160156\n",
            "Epcoh 10: 172.95832538604736\n",
            "Epcoh 10: 172.95832538604736, Training accuracy: 86.19999694824219, Validation accuracy: 85.0\n",
            "Epcoh 11: 188.7099781036377\n",
            "Epcoh 12: 166.1883373260498\n",
            "Epcoh 12: 166.1883373260498, Training accuracy: 84.79999542236328, Validation accuracy: 84.0\n",
            "Epcoh 13: 176.8381700515747\n",
            "Epcoh 14: 177.05052375793457\n",
            "Epcoh 14: 177.05052375793457, Training accuracy: 85.19999694824219, Validation accuracy: 82.5\n",
            "Epcoh 15: 176.97593879699707\n",
            "Epcoh 16: 185.065016746521\n",
            "Epcoh 16: 185.065016746521, Training accuracy: 86.0, Validation accuracy: 87.0\n",
            "Epcoh 17: 184.51188850402832\n",
            "Epcoh 18: 172.8911647796631\n",
            "Epcoh 18: 172.8911647796631, Training accuracy: 85.39999389648438, Validation accuracy: 86.0\n",
            "Epcoh 19: 172.57999420166016\n"
          ],
          "name": "stdout"
        }
      ]
    },
    {
      "cell_type": "markdown",
      "metadata": {
        "id": "IPr3JM2Ey1GB"
      },
      "source": [
        "Evaluate your accuracy:"
      ]
    },
    {
      "cell_type": "code",
      "metadata": {
        "id": "EfOU2wtuy1GC",
        "colab": {
          "base_uri": "https://localhost:8080/",
          "height": 33
        },
        "outputId": "fa6fa94e-0895-4b0e-94ce-6bf657a536f8"
      },
      "source": [
        "y_pred = (model(X_train) > 0.5)\n",
        "train_acc = get_acc(y_pred, y_train) \n",
        "\n",
        "y_val_pred = (model(X_val) > 0.5)\n",
        "val_acc = get_acc(y_val_pred, y_val)  \n",
        "\n",
        "y_pred = (model(X_test) > 0.5)\n",
        "test_acc = get_acc(y_pred, y_test)\n",
        "print(f'Training accuracy: {train_acc}, Validation accuracy: {val_acc}, Testing accuracy: {test_acc}')"
      ],
      "execution_count": null,
      "outputs": [
        {
          "output_type": "stream",
          "text": [
            "Training accuracy: 85.39999389648438, Validation accuracy: 86.0, Testing accuracy: 85.33333587646484\n"
          ],
          "name": "stdout"
        }
      ]
    },
    {
      "cell_type": "markdown",
      "metadata": {
        "id": "iKENE4W6y1GE"
      },
      "source": [
        "# Section 3. Image Classification with CNN [70 pts]\n",
        "Now, we are back to the image classification problem. In this section, our goal is to, again, train models on CIFAR-10 to perform image classification. Your tasks here are to:\n",
        "1. Build and Train a simple feed-forward Neural Network (consists of only nn.Linear layer with activation function) for the classification task\n",
        "2. Build and Train a **Convolutional** Neural Network (CNN) for the classification task\n",
        "3. Try different settings for training your CNN\n",
        "4. Reproduce"
      ]
    },
    {
      "cell_type": "markdown",
      "metadata": {
        "id": "Urj7UIspy1GF"
      },
      "source": [
        "In the following cell, we provide the code for creating a CIFAR10 dataloader. As you can see, PyTorch's `torchvision` package actually has an interface for the CIFAR10 dataset: "
      ]
    },
    {
      "cell_type": "code",
      "metadata": {
        "id": "y-7GdjG5y1GG",
        "colab": {
          "base_uri": "https://localhost:8080/",
          "height": 50
        },
        "outputId": "862e7756-9eed-4094-810e-dc12bd3ae8be"
      },
      "source": [
        "import torchvision\n",
        "import torchvision.transforms as transforms\n",
        "\n",
        "# Preprocessing steps on the training/testing data. You can define your own data augmentation\n",
        "# here, and PyTorch's API will do the rest for you.\n",
        "transform_train = transforms.Compose([\n",
        "    transforms.ToTensor(),\n",
        "    transforms.Normalize((0.4914, 0.4822, 0.4465), (0.2023, 0.1994, 0.2010)),\n",
        "])\n",
        "\n",
        "transform_test = transforms.Compose([\n",
        "    transforms.ToTensor(),\n",
        "    transforms.Normalize((0.4914, 0.4822, 0.4465), (0.2023, 0.1994, 0.2010)),\n",
        "])\n",
        "\n",
        "current_path = prefix + customized_path_to_your_homework\n",
        "# This will automatically download the dataset for you\n",
        "trainset = torchvision.datasets.CIFAR10(root=current_path + '/data', train=True, download=True, transform=transform_train)\n",
        "testset = torchvision.datasets.CIFAR10(root=current_path + '/data', train=False, download=True, transform=transform_test)"
      ],
      "execution_count": null,
      "outputs": [
        {
          "output_type": "stream",
          "text": [
            "Files already downloaded and verified\n",
            "Files already downloaded and verified\n"
          ],
          "name": "stdout"
        }
      ]
    },
    {
      "cell_type": "markdown",
      "metadata": {
        "id": "mDnM1__Yy1GL"
      },
      "source": [
        "## 3.1 Simple NN [30 pts]\n",
        "Implement a simple feed-forward neural network, and train it on the CIFAR-10 training set. Here's some specific requirements:\n",
        "1. The network should only consists of `nn.Linear` layers and the activation functions of your choices (e.g. `nn.Tanh`, `nn.ReLU`, `nn.Sigmoid`, etc). \n",
        "2. Train your model with `torch.optim.SGD` with the hyperparameters you like the most. \n",
        "\n",
        "Note that the hyperparameters work in previous assignment might not work the same, as the implementations of layers could be different."
      ]
    },
    {
      "cell_type": "code",
      "metadata": {
        "id": "PfTjhEVny1GM"
      },
      "source": [
        "class SimpleNN(nn.Module):\n",
        "    \n",
        "    def __init__(self, D_in,H, D_out):\n",
        "        super().__init__()\n",
        "        self.linear1 = nn.Linear(D_in,H)\n",
        "        self.linear2 = nn.Linear(H, D_out)\n",
        "        #self.linear3 = nn.Linear(H, D_out)\n",
        "        self.Sigmoid = nn.Sigmoid()\n",
        "        ################################################################################\n",
        "        # TODO:                                                                        #\n",
        "        # Construct your small feedforward NN here.                                    #\n",
        "        ################################################################################\n",
        "        \n",
        "        ################################################################################\n",
        "        #                                 END OF YOUR CODE                             #\n",
        "        ################################################################################\n",
        "        \n",
        "    def forward(self, x):\n",
        "        # note that: here, the data is of the shape (B, C, H, W)\n",
        "        # where B is the batch size, C is color channels, and H\n",
        "        # and W is height and width.\n",
        "        # To feed it into the linear layer, we need to reshape it\n",
        "        # with .view() function.\n",
        "        \n",
        "        batch_size = x.size(0)\n",
        "        x = x.view(batch_size, -1) # reshape the data from (B, C, H, W) to (B, C*H*W)\n",
        "        h_relu = self.linear1(x).clamp(min=0)\n",
        "        y_pred = self.linear2(h_relu).clamp(min=0)\n",
        "        #y_pred = self.linear3(y_pred).clamp(min=0)\n",
        "        return y_pred\n",
        "        ################################################################################\n",
        "        # TODO:                                                                        #\n",
        "        # Forward pass, output the prediction score.                                   #\n",
        "        ################################################################################\n",
        "        ################################################################################\n",
        "        #                                 END OF YOUR CODE                             #\n",
        "        ################################################################################"
      ],
      "execution_count": null,
      "outputs": []
    },
    {
      "cell_type": "code",
      "metadata": {
        "id": "mpCe6DLpy1GQ",
        "colab": {
          "base_uri": "https://localhost:8080/",
          "height": 183
        },
        "outputId": "9b079ef6-b79c-4f40-fa4b-985ad070d7aa"
      },
      "source": [
        "epoch = 10\n",
        "lr = 1e-2\n",
        "n_input = 3072\n",
        "n_classes = 10\n",
        "\n",
        "train_loader = torch.utils.data.DataLoader(trainset, batch_size=64, shuffle=True, num_workers=2)\n",
        "test_loader = torch.utils.data.DataLoader(testset, batch_size=100, shuffle=False, num_workers=2)\n",
        "\n",
        "model = SimpleNN(n_input,128,n_classes)\n",
        "model = model.cuda()\n",
        "\n",
        "criterion = nn.CrossEntropyLoss(reduction='mean')\n",
        "optim = torch.optim.SGD(model.parameters(), lr=lr)\n",
        "\n",
        "for e in range(epoch):\n",
        "      loss_epoch = 0\n",
        "      for x, y in train_loader:\n",
        "        x = x.cuda()\n",
        "        y = y.cuda()\n",
        "        optim.zero_grad()\n",
        "        y_pred = model(x)\n",
        "        # !!WARNING!!\n",
        "        # THIS IS A CLASSIFICATION TASK, SO YOU SHOULD NOT\n",
        "        # USE THIS LOSS FUNCTION. \n",
        "        loss = criterion(y_pred, y)\n",
        "        loss.backward()\n",
        "        optim.step()\n",
        "        loss_epoch += loss.item()\n",
        "      print(f'Epcoh {e}: {loss_epoch}')\n",
        "################################################################################\n",
        "# TODO:                                                                        #\n",
        "# Your training code here.                                                     #\n",
        "################################################################################\n",
        "    \n",
        "################################################################################\n",
        "#                                 END OF YOUR CODE                             #\n",
        "################################################################################\n"
      ],
      "execution_count": null,
      "outputs": [
        {
          "output_type": "stream",
          "text": [
            "Epcoh 0: 1417.2683054208755\n",
            "Epcoh 1: 1218.1370579004288\n",
            "Epcoh 2: 1150.666941165924\n",
            "Epcoh 3: 1102.0916590690613\n",
            "Epcoh 4: 1063.3642762899399\n",
            "Epcoh 5: 1030.7297908067703\n",
            "Epcoh 6: 1001.0685966610909\n",
            "Epcoh 7: 975.8465733528137\n",
            "Epcoh 8: 954.320758998394\n",
            "Epcoh 9: 932.4676052331924\n"
          ],
          "name": "stdout"
        }
      ]
    },
    {
      "cell_type": "markdown",
      "metadata": {
        "id": "hfHSU8K_y1GS"
      },
      "source": [
        "Now evaluate your model with the helper function:"
      ]
    },
    {
      "cell_type": "code",
      "metadata": {
        "id": "7RKgYXUty1GT"
      },
      "source": [
        "def get_model_acc(model, loader):\n",
        "    ys = []\n",
        "    y_preds = []\n",
        "    for x, y in loader:\n",
        "      x = x.cuda()\n",
        "      y = y.cuda()\n",
        "      ys.append(y)\n",
        "        # set the prediction to the one that has highest value\n",
        "        # Note that the the output size of model(x) is (B, 10)\n",
        "      y_preds.append(torch.argmax(model(x), dim=1))\n",
        "    y = torch.cat(ys, dim=0)\n",
        "    y_pred = torch.cat(y_preds, dim=0)\n",
        "    print((y == y_pred).sum())\n",
        "    return get_acc(y_pred, y)"
      ],
      "execution_count": null,
      "outputs": []
    },
    {
      "cell_type": "markdown",
      "metadata": {
        "id": "_3RhCxAxy1GV"
      },
      "source": [
        "### 3.1.1 Evaluate NN [30 pts]\n",
        "Evaluate your NN. You should get an accuracy around **50%** on training set and **49%** on testing set."
      ]
    },
    {
      "cell_type": "code",
      "metadata": {
        "id": "SpVBawqry1GW",
        "colab": {
          "base_uri": "https://localhost:8080/",
          "height": 67
        },
        "outputId": "d3889828-da93-41c6-d288-0508b288fd08"
      },
      "source": [
        "train_acc = get_model_acc(model, train_loader)\n",
        "test_acc = get_model_acc(model, test_loader)\n",
        "print(f'Training accuracy: {train_acc}, Testing accuracy: {test_acc}')"
      ],
      "execution_count": null,
      "outputs": [
        {
          "output_type": "stream",
          "text": [
            "tensor(29297, device='cuda:0')\n",
            "tensor(4946, device='cuda:0')\n",
            "Training accuracy: 58.59400177001953, Testing accuracy: 49.459999084472656\n"
          ],
          "name": "stdout"
        }
      ]
    },
    {
      "cell_type": "markdown",
      "metadata": {
        "id": "NpIoBdA5y1GZ"
      },
      "source": [
        "## 3.2 Convolutional Neural Network (CNN) [40 pts]\n",
        "Convolutional layer has been proven to be extremely useful for vision-based task. As mentioned in the lecture, this speical layer allows the model to learn filters that capture crucial visual features. \n",
        "\n"
      ]
    },
    {
      "cell_type": "markdown",
      "metadata": {
        "id": "e0E1CSB0y1Ga"
      },
      "source": [
        "### 3.2.1 Implement and Evaluate CNN [10 pts]\n",
        "In this section, you will need to construct a CNN for classifying CIFAR-10 image. Specifically, you need to:\n",
        "1. build a `CNNClassifier` with `nn.Conv2d`, `nn.Maxpool2d` and activation functions that you think are appropriate. \n",
        "2. You would need to flatten the output of your convolutional networks with `view()`, and feed it into a `nn.Linear` layer to predict the class labels of the input. \n",
        "\n",
        "Once you are done with your module, train it with `optim.SGD`, and evaluate it. You should get an accuracy around **55%** on training set and **53%** on testing set.\n",
        "\n",
        "Hint: You might want to look up `nn.Conv2d`, `nn.Maxpool2d`, `nn.CrossEntropyLoss()`, `view()` and `size()`."
      ]
    },
    {
      "cell_type": "code",
      "metadata": {
        "id": "w1ayhXliy1Gb"
      },
      "source": [
        "import torch.nn.functional as F\n",
        "class CNNClassifier(nn.Module):\n",
        "    \n",
        "    def __init__(self, D_in, D_out):\n",
        "        super(CNNClassifier, self).__init__()\n",
        "        self.conv1 = nn.Conv2d(3,6,5)\n",
        "        self.conv2 = nn.Conv2d(6,16,5)        \n",
        "        self.conv3 = nn.Conv2d(16,32,5)\n",
        "        self.pool = nn.MaxPool2d(2)\n",
        "        self.linear1 = nn.Linear(32*4*4,D_out)\n",
        "\n",
        "        ################################################################################\n",
        "        # TODO:                                                                        #\n",
        "        # Construct a CNN with 2 or 3 convolutional layers and 1 linear layer for      #\n",
        "        # outputing class prediction. You are free to pick the hyperparameters         #\n",
        "        ################################################################################\n",
        "            \n",
        "        ################################################################################\n",
        "        #                                 END OF YOUR CODE                             #\n",
        "        ################################################################################\n",
        "        \n",
        "        \n",
        "    def forward(self, x):\n",
        "      y_pred = F.relu(self.conv1(x))\n",
        "      y_pred = self.pool(F.relu(self.conv2(y_pred)))\n",
        "      y_pred = self.pool(F.relu(self.conv3(y_pred)))\n",
        "      y_pred = y_pred.view(-1,32*4*4)\n",
        "      y_pred = self.linear1(y_pred)\n",
        "      return y_pred\n",
        "        ################################################################################\n",
        "        # TODO:                                                                        #\n",
        "        # Forward pass of your network. First extract feature with CNN, and predict    #\n",
        "        # class scores with linear layer. Be careful about your input/output shape.    #\n",
        "        ################################################################################\n",
        "        ################################################################################\n",
        "        #                                 END OF YOUR CODE                             #\n",
        "        ################################################################################"
      ],
      "execution_count": null,
      "outputs": []
    },
    {
      "cell_type": "code",
      "metadata": {
        "id": "1mZ3iGNzMn7r",
        "colab": {
          "base_uri": "https://localhost:8080/",
          "height": 183
        },
        "outputId": "468ca29e-e229-483f-c053-16ed745c9ec8"
      },
      "source": [
        "# You can tune these hyperparameters as you like.\n",
        "epoch = 10\n",
        "lr = 1e-1\n",
        "n_input = 3072\n",
        "n_classes = 10\n",
        "batch_size = 64\n",
        "num_workers = num_workers\n",
        "\n",
        "train_loader = torch.utils.data.DataLoader(trainset, batch_size=64, shuffle=True, num_workers=2)\n",
        "test_loader = torch.utils.data.DataLoader(testset, batch_size=100, shuffle=False, num_workers=2)\n",
        "\n",
        "model = CNNClassifier(n_input,n_classes)\n",
        "model = model.cuda()\n",
        "\n",
        "criterion = nn.CrossEntropyLoss(reduction='mean')\n",
        "optim = torch.optim.SGD(model.parameters(), lr=lr)\n",
        "\n",
        "for e in range(epoch):\n",
        "      loss_epoch = 0\n",
        "      for x, y in train_loader:\n",
        "        x = x.cuda()\n",
        "        y = y.cuda()\n",
        "        optim.zero_grad()\n",
        "        y_pred = model(x)\n",
        "        # !!WARNING!!\n",
        "        # THIS IS A CLASSIFICATION TASK, SO YOU SHOULD NOT\n",
        "        # USE THIS LOSS FUNCTION. \n",
        "        loss = criterion(y_pred, y)\n",
        "        loss.backward()\n",
        "        optim.step()\n",
        "        loss_epoch += loss.item()\n",
        "      print(f'Epcoh {e}: {loss_epoch}')\n",
        "################################################################################\n",
        "# TODO:                                                                        #\n",
        "# Your training code here.                                                     #\n",
        "################################################################################\n",
        "\n",
        "################################################################################\n",
        "#                                 END OF YOUR CODE                             #\n",
        "################################################################################"
      ],
      "execution_count": null,
      "outputs": [
        {
          "output_type": "stream",
          "text": [
            "Epcoh 0: 1335.4588747024536\n",
            "Epcoh 1: 1054.1284854412079\n",
            "Epcoh 2: 944.6212030649185\n",
            "Epcoh 3: 884.3230088353157\n",
            "Epcoh 4: 853.2792763710022\n",
            "Epcoh 5: 823.1205242276192\n",
            "Epcoh 6: 799.835424721241\n",
            "Epcoh 7: 789.1551119685173\n",
            "Epcoh 8: 774.1463303565979\n",
            "Epcoh 9: 763.965784072876\n"
          ],
          "name": "stdout"
        }
      ]
    },
    {
      "cell_type": "code",
      "metadata": {
        "id": "bZQWRVYZMn7u",
        "colab": {
          "base_uri": "https://localhost:8080/",
          "height": 67
        },
        "outputId": "ed5fec91-3118-42fa-b454-a07411f99368"
      },
      "source": [
        "# turn on evaluation mode. This is crucial when you have BatchNorm in your network,\n",
        "# as you want to use the running mean/std you obtain durining training time to normalize\n",
        "# your input data. Rememeber to call .train() function after evaluation\n",
        "model.eval()\n",
        "train_acc = get_model_acc(model, train_loader)\n",
        "test_acc = get_model_acc(model, test_loader)\n",
        "print(f'Training accuracy: {train_acc}, Testing accuracy: {test_acc}')"
      ],
      "execution_count": null,
      "outputs": [
        {
          "output_type": "stream",
          "text": [
            "tensor(31018, device='cuda:0')\n",
            "tensor(5693, device='cuda:0')\n",
            "Training accuracy: 62.03599548339844, Testing accuracy: 56.93000030517578\n"
          ],
          "name": "stdout"
        }
      ]
    },
    {
      "cell_type": "markdown",
      "metadata": {
        "id": "I3rJE8nty1Gr"
      },
      "source": [
        "<span style=\"color:red\">**Explain your design and hyperparameter choice in three or four sentences: Ans) I have used 3 convolution layer and used Max Pooling twice (one after 2nd convolution layer and one after 3rd convolution layer). I have used epoch = 10, kernel width = 5 and lr = 10^-1.**</span>"
      ]
    },
    {
      "cell_type": "markdown",
      "metadata": {
        "id": "IidJ8UI-y1Gr"
      },
      "source": [
        "### 3.2.2 STACK MORE LAYERS [10 pts]\n",
        "Now, **try at least 4 network architectures with different numbers of convolutional layers**. Train these settings with `optim.SGD`, plot the accuracy as a fuction of convolutional layers and describe what you have observed (running time, performance, etc). "
      ]
    },
    {
      "cell_type": "code",
      "metadata": {
        "id": "j6x0bN1BMn7y",
        "colab": {
          "base_uri": "https://localhost:8080/",
          "height": 183
        },
        "outputId": "2f16f382-6f47-4ada-80f6-abbbe3d82c91"
      },
      "source": [
        "train_accuracy = []\n",
        "test_accuracy = []\n",
        "time_1 = []\n",
        "import time\n",
        "class CNNClassifier_1(nn.Module):\n",
        "    \n",
        "    def __init__(self, D_in, D_out):\n",
        "        super(CNNClassifier_1, self).__init__()\n",
        "        self.conv1 = nn.Conv2d(3,6,5)\n",
        "        self.conv2 = nn.Conv2d(6,16,5)        \n",
        "        #self.conv3 = nn.Conv2d(16,32,5)\n",
        "        self.pool = nn.MaxPool2d(2)\n",
        "        self.linear1 = nn.Linear(16*12*12,D_out)\n",
        "\n",
        "        ################################################################################\n",
        "        # TODO:                                                                        #\n",
        "        # Construct a CNN with 2 or 3 convolutional layers and 1 linear layer for      #\n",
        "        # outputing class prediction. You are free to pick the hyperparameters         #\n",
        "        ################################################################################\n",
        "            \n",
        "        ################################################################################\n",
        "        #                                 END OF YOUR CODE                             #\n",
        "        ################################################################################\n",
        "        \n",
        "        \n",
        "    def forward(self, x):\n",
        "      y_pred = F.relu(self.conv1(x))\n",
        "      y_pred = self.pool(F.relu(self.conv2(y_pred)))\n",
        "      #y_pred = self.pool(F.relu(self.conv3(y_pred)))\n",
        "      y_pred = y_pred.view(-1,16*12*12)\n",
        "      y_pred = self.linear1(y_pred)\n",
        "      return y_pred\n",
        "\n",
        "epoch = 10\n",
        "lr = 1e-1\n",
        "n_input = 3072\n",
        "n_classes = 10\n",
        "batch_size = 64\n",
        "num_workers = num_workers\n",
        "\n",
        "train_loader = torch.utils.data.DataLoader(trainset, batch_size=64, shuffle=True, num_workers=2)\n",
        "test_loader = torch.utils.data.DataLoader(testset, batch_size=100, shuffle=False, num_workers=2)\n",
        "\n",
        "model = CNNClassifier_1(n_input,n_classes)\n",
        "model = model.cuda()\n",
        "\n",
        "criterion = nn.CrossEntropyLoss(reduction='mean')\n",
        "optim = torch.optim.SGD(model.parameters(), lr=lr)\n",
        "\n",
        "k1 = time.time()\n",
        "for e in range(epoch):\n",
        "      loss_epoch = 0\n",
        "      for x, y in train_loader:\n",
        "        x = x.cuda()\n",
        "        y = y.cuda()\n",
        "        optim.zero_grad()\n",
        "        y_pred = model(x)\n",
        "        # !!WARNING!!\n",
        "        # THIS IS A CLASSIFICATION TASK, SO YOU SHOULD NOT\n",
        "        # USE THIS LOSS FUNCTION. \n",
        "        loss = criterion(y_pred, y)\n",
        "        loss.backward()\n",
        "        optim.step()\n",
        "        loss_epoch += loss.item()\n",
        "      print(f'Epcoh {e}: {loss_epoch}')\n",
        "i1 = time.time()\n",
        "time_1.append(i1-k1)\n",
        "\n",
        "\n",
        "\n",
        "################################################################################\n",
        "# TODO:                                                                        #\n",
        "# Your training code here.                                                     #\n",
        "################################################################################\n",
        "################################################################################\n",
        "#                                 END OF YOUR CODE                             #\n",
        "################################################################################"
      ],
      "execution_count": null,
      "outputs": [
        {
          "output_type": "stream",
          "text": [
            "Epcoh 0: 1374.5137635469437\n",
            "Epcoh 1: 1090.891298532486\n",
            "Epcoh 2: 1013.4584425091743\n",
            "Epcoh 3: 968.0234783291817\n",
            "Epcoh 4: 933.7289039492607\n",
            "Epcoh 5: 910.8444363474846\n",
            "Epcoh 6: 892.8740354180336\n",
            "Epcoh 7: 881.62183624506\n",
            "Epcoh 8: 869.6614565849304\n",
            "Epcoh 9: 865.1558688879013\n"
          ],
          "name": "stdout"
        }
      ]
    },
    {
      "cell_type": "code",
      "metadata": {
        "id": "XH01yiiX6zEa",
        "colab": {
          "base_uri": "https://localhost:8080/",
          "height": 67
        },
        "outputId": "79b846bc-9834-46fe-991f-2938dd8b7562"
      },
      "source": [
        "model.eval()\n",
        "train_acc = get_model_acc(model, train_loader)\n",
        "test_acc = get_model_acc(model, test_loader)\n",
        "print(f'Training accuracy: {train_acc}, Testing accuracy: {test_acc}')\n",
        "train_accuracy.append(train_acc)\n",
        "test_accuracy.append(test_acc)"
      ],
      "execution_count": null,
      "outputs": [
        {
          "output_type": "stream",
          "text": [
            "tensor(29634, device='cuda:0')\n",
            "tensor(5268, device='cuda:0')\n",
            "Training accuracy: 59.26799774169922, Testing accuracy: 52.679996490478516\n"
          ],
          "name": "stdout"
        }
      ]
    },
    {
      "cell_type": "code",
      "metadata": {
        "id": "WnsRbdcWDjwO",
        "colab": {
          "base_uri": "https://localhost:8080/",
          "height": 183
        },
        "outputId": "2f8bdf7e-0a94-4822-a7bf-2a8b5037e2e4"
      },
      "source": [
        "class CNNClassifier_2(nn.Module):\n",
        "    \n",
        "    def __init__(self, D_in, D_out):\n",
        "        super(CNNClassifier_2, self).__init__()\n",
        "        self.conv1 = nn.Conv2d(3,6,3)\n",
        "        self.conv2 = nn.Conv2d(6,16,3)        \n",
        "        self.conv3 = nn.Conv2d(16,32,3)\n",
        "        self.pool = nn.MaxPool2d(2)\n",
        "        self.linear1 = nn.Linear(32*6*6,D_out)\n",
        "\n",
        "        ################################################################################\n",
        "        # TODO:                                                                        #\n",
        "        # Construct a CNN with 2 or 3 convolutional layers and 1 linear layer for      #\n",
        "        # outputing class prediction. You are free to pick the hyperparameters         #\n",
        "        ################################################################################\n",
        "            \n",
        "        ################################################################################\n",
        "        #                                 END OF YOUR CODE                             #\n",
        "        ################################################################################\n",
        "        \n",
        "        \n",
        "    def forward(self, x):\n",
        "      y_pred = F.relu(self.conv1(x))\n",
        "      y_pred = self.pool(F.relu(self.conv2(y_pred)))\n",
        "      y_pred = self.pool(F.relu(self.conv3(y_pred)))\n",
        "      y_pred = y_pred.view(-1,32*6*6)\n",
        "      y_pred = self.linear1(y_pred)\n",
        "      return y_pred\n",
        "\n",
        "epoch = 10\n",
        "lr = 1e-1\n",
        "n_input = 3072\n",
        "n_classes = 10\n",
        "batch_size = 64\n",
        "num_workers = num_workers\n",
        "\n",
        "train_loader = torch.utils.data.DataLoader(trainset, batch_size=64, shuffle=True, num_workers=2)\n",
        "test_loader = torch.utils.data.DataLoader(testset, batch_size=100, shuffle=False, num_workers=2)\n",
        "\n",
        "model = CNNClassifier_2(n_input,n_classes)\n",
        "model = model.cuda()\n",
        "\n",
        "criterion = nn.CrossEntropyLoss(reduction='mean')\n",
        "optim = torch.optim.SGD(model.parameters(), lr=lr)\n",
        "k2 = time.time() \n",
        "for e in range(epoch):\n",
        "      loss_epoch = 0\n",
        "      for x, y in train_loader:\n",
        "        x = x.cuda()\n",
        "        y = y.cuda()\n",
        "        optim.zero_grad()\n",
        "        y_pred = model(x)\n",
        "        # !!WARNING!!\n",
        "        # THIS IS A CLASSIFICATION TASK, SO YOU SHOULD NOT\n",
        "        # USE THIS LOSS FUNCTION. \n",
        "        loss = criterion(y_pred, y)\n",
        "        loss.backward()\n",
        "        optim.step()\n",
        "        loss_epoch += loss.item()\n",
        "      print(f'Epcoh {e}: {loss_epoch}')\n",
        "i2 = time.time()\n",
        "time_1.append(i2-k2)"
      ],
      "execution_count": null,
      "outputs": [
        {
          "output_type": "stream",
          "text": [
            "Epcoh 0: 1264.5021334290504\n",
            "Epcoh 1: 938.7014175057411\n",
            "Epcoh 2: 823.3562446832657\n",
            "Epcoh 3: 765.9061732888222\n",
            "Epcoh 4: 726.9065337777138\n",
            "Epcoh 5: 700.4072102308273\n",
            "Epcoh 6: 691.0500854253769\n",
            "Epcoh 7: 672.2378757297993\n",
            "Epcoh 8: 660.9836042821407\n",
            "Epcoh 9: 649.05937692523\n"
          ],
          "name": "stdout"
        }
      ]
    },
    {
      "cell_type": "code",
      "metadata": {
        "id": "-TOOtbzBDj8D",
        "colab": {
          "base_uri": "https://localhost:8080/",
          "height": 67
        },
        "outputId": "8e8456bf-8097-4d55-860a-dc9b7e42bd31"
      },
      "source": [
        "model.eval()\n",
        "train_acc = get_model_acc(model, train_loader)\n",
        "test_acc = get_model_acc(model, test_loader)\n",
        "print(f'Training accuracy: {train_acc}, Testing accuracy: {test_acc}')\n",
        "train_accuracy.append(train_acc)\n",
        "test_accuracy.append(test_acc)"
      ],
      "execution_count": null,
      "outputs": [
        {
          "output_type": "stream",
          "text": [
            "tensor(32871, device='cuda:0')\n",
            "tensor(6188, device='cuda:0')\n",
            "Training accuracy: 65.74199676513672, Testing accuracy: 61.87999725341797\n"
          ],
          "name": "stdout"
        }
      ]
    },
    {
      "cell_type": "code",
      "metadata": {
        "id": "AOt3yCDyDkBq",
        "colab": {
          "base_uri": "https://localhost:8080/",
          "height": 183
        },
        "outputId": "f1dec28c-7915-4330-fcde-4a6d097802ca"
      },
      "source": [
        "class CNNClassifier_3(nn.Module):\n",
        "    \n",
        "    def __init__(self, D_in, D_out):\n",
        "        super(CNNClassifier_3, self).__init__()\n",
        "        self.conv1 = nn.Conv2d(3,6,3)\n",
        "        self.conv2 = nn.Conv2d(6,16,3)        \n",
        "        self.conv3 = nn.Conv2d(16,32,3)\n",
        "        self.conv4 = nn.Conv2d(32,64,3)\n",
        "        self.pool = nn.MaxPool2d(2)\n",
        "        self.linear1 = nn.Linear(64*11*11,D_out)\n",
        "\n",
        "        ################################################################################\n",
        "        # TODO:                                                                        #\n",
        "        # Construct a CNN with 2 or 3 convolutional layers and 1 linear layer for      #\n",
        "        # outputing class prediction. You are free to pick the hyperparameters         #\n",
        "        ################################################################################\n",
        "            \n",
        "        ################################################################################\n",
        "        #                                 END OF YOUR CODE                             #\n",
        "        ################################################################################\n",
        "        \n",
        "        \n",
        "    def forward(self, x):\n",
        "      y_pred = F.relu(self.conv1(x))\n",
        "      y_pred = F.relu(self.conv2(y_pred))\n",
        "      y_pred = self.pool(F.relu(self.conv3(y_pred)))\n",
        "      y_pred = F.relu(self.conv4(y_pred))\n",
        "      y_pred = y_pred.view(-1,64*11*11)\n",
        "      y_pred = self.linear1(y_pred)\n",
        "      return y_pred\n",
        "\n",
        "epoch = 10\n",
        "lr = 1e-1\n",
        "n_input = 3072\n",
        "n_classes = 10\n",
        "batch_size = 64\n",
        "num_workers = num_workers\n",
        "\n",
        "train_loader = torch.utils.data.DataLoader(trainset, batch_size=64, shuffle=True, num_workers=2)\n",
        "test_loader = torch.utils.data.DataLoader(testset, batch_size=100, shuffle=False, num_workers=2)\n",
        "\n",
        "model = CNNClassifier_3(n_input,n_classes)\n",
        "model = model.cuda()\n",
        "\n",
        "criterion = nn.CrossEntropyLoss(reduction='mean')\n",
        "optim = torch.optim.SGD(model.parameters(), lr=lr)\n",
        "\n",
        "k3 = time.time()\n",
        "for e in range(epoch):\n",
        "      loss_epoch = 0\n",
        "      for x, y in train_loader:\n",
        "        x = x.cuda()\n",
        "        y = y.cuda()\n",
        "        optim.zero_grad()\n",
        "        y_pred = model(x)\n",
        "        # !!WARNING!!\n",
        "        # THIS IS A CLASSIFICATION TASK, SO YOU SHOULD NOT\n",
        "        # USE THIS LOSS FUNCTION. \n",
        "        loss = criterion(y_pred, y)\n",
        "        loss.backward()\n",
        "        optim.step()\n",
        "        loss_epoch += loss.item()\n",
        "      print(f'Epcoh {e}: {loss_epoch}')\n",
        "i3 = time.time()\n",
        "time_1.append(i3-k3)"
      ],
      "execution_count": null,
      "outputs": [
        {
          "output_type": "stream",
          "text": [
            "Epcoh 0: 1309.610031247139\n",
            "Epcoh 1: 948.0434097647667\n",
            "Epcoh 2: 785.3731477856636\n",
            "Epcoh 3: 698.1498190760612\n",
            "Epcoh 4: 620.6006314754486\n",
            "Epcoh 5: 558.7613405287266\n",
            "Epcoh 6: 515.703260153532\n",
            "Epcoh 7: 471.0328968167305\n",
            "Epcoh 8: 435.3704751133919\n",
            "Epcoh 9: 406.9762824475765\n"
          ],
          "name": "stdout"
        }
      ]
    },
    {
      "cell_type": "code",
      "metadata": {
        "id": "dxeMkkwCDkJw",
        "colab": {
          "base_uri": "https://localhost:8080/",
          "height": 67
        },
        "outputId": "fb4473e5-291e-42b6-b9cb-b0e41729f4a0"
      },
      "source": [
        "model.eval()\n",
        "train_acc = get_model_acc(model, train_loader)\n",
        "test_acc = get_model_acc(model, test_loader)\n",
        "print(f'Training accuracy: {train_acc}, Testing accuracy: {test_acc}')\n",
        "train_accuracy.append(train_acc)\n",
        "test_accuracy.append(test_acc)"
      ],
      "execution_count": null,
      "outputs": [
        {
          "output_type": "stream",
          "text": [
            "tensor(43041, device='cuda:0')\n",
            "tensor(6571, device='cuda:0')\n",
            "Training accuracy: 86.08200073242188, Testing accuracy: 65.70999908447266\n"
          ],
          "name": "stdout"
        }
      ]
    },
    {
      "cell_type": "code",
      "metadata": {
        "id": "mR79IgBuDj5x",
        "colab": {
          "base_uri": "https://localhost:8080/",
          "height": 183
        },
        "outputId": "91bd56f7-a0d5-46b6-b52b-5043e897b38a"
      },
      "source": [
        "class CNNClassifier_4(nn.Module):\n",
        "    \n",
        "    def __init__(self, D_in, D_out):\n",
        "        super(CNNClassifier_4, self).__init__()\n",
        "        self.conv1 = nn.Conv2d(3,6,3)\n",
        "        self.conv2 = nn.Conv2d(6,16,3)        \n",
        "        self.conv3 = nn.Conv2d(16,32,3)\n",
        "        self.conv4 = nn.Conv2d(32,64,3)\n",
        "        self.conv5 = nn.Conv2d(64,128,3)\n",
        "        self.pool = nn.MaxPool2d(2)\n",
        "        self.linear1 = nn.Linear(128*4*4,D_out)\n",
        "\n",
        "        ################################################################################\n",
        "        # TODO:                                                                        #\n",
        "        # Construct a CNN with 2 or 3 convolutional layers and 1 linear layer for      #\n",
        "        # outputing class prediction. You are free to pick the hyperparameters         #\n",
        "        ################################################################################\n",
        "            \n",
        "        ################################################################################\n",
        "        #                                 END OF YOUR CODE                             #\n",
        "        ################################################################################\n",
        "        \n",
        "        \n",
        "    def forward(self, x):\n",
        "      y_pred = F.relu(self.conv1(x))\n",
        "      y_pred = self.pool(F.relu(self.conv2(y_pred)))\n",
        "      y_pred = F.relu(self.conv3(y_pred))\n",
        "      y_pred = F.relu(self.conv4(y_pred))\n",
        "      y_pred = self.pool(F.relu(self.conv5(y_pred)))\n",
        "      y_pred = y_pred.view(-1,128*4*4)\n",
        "      y_pred = self.linear1(y_pred)\n",
        "      return y_pred\n",
        "\n",
        "epoch = 10\n",
        "lr = 1e-1\n",
        "n_input = 3072\n",
        "n_classes = 10\n",
        "batch_size = 64\n",
        "num_workers = num_workers\n",
        "\n",
        "train_loader = torch.utils.data.DataLoader(trainset, batch_size=64, shuffle=True, num_workers=2)\n",
        "test_loader = torch.utils.data.DataLoader(testset, batch_size=100, shuffle=False, num_workers=2)\n",
        "\n",
        "model = CNNClassifier_4(n_input,n_classes)\n",
        "model = model.cuda()\n",
        "\n",
        "criterion = nn.CrossEntropyLoss(reduction='mean')\n",
        "optim = torch.optim.SGD(model.parameters(), lr=lr)\n",
        "\n",
        "k4 = time.time()\n",
        "for e in range(epoch):\n",
        "      loss_epoch = 0\n",
        "      for x, y in train_loader:\n",
        "        x = x.cuda()\n",
        "        y = y.cuda()\n",
        "        optim.zero_grad()\n",
        "        y_pred = model(x)\n",
        "        # !!WARNING!!\n",
        "        # THIS IS A CLASSIFICATION TASK, SO YOU SHOULD NOT\n",
        "        # USE THIS LOSS FUNCTION. \n",
        "        loss = criterion(y_pred, y)\n",
        "        loss.backward()\n",
        "        optim.step()\n",
        "        loss_epoch += loss.item()\n",
        "      print(f'Epcoh {e}: {loss_epoch}')\n",
        "i4 = time.time()\n",
        "time_1.append(i4-k4)"
      ],
      "execution_count": null,
      "outputs": [
        {
          "output_type": "stream",
          "text": [
            "Epcoh 0: 1398.9838144779205\n",
            "Epcoh 1: 1075.4900904893875\n",
            "Epcoh 2: 905.4233046174049\n",
            "Epcoh 3: 783.9552538394928\n",
            "Epcoh 4: 702.4366827309132\n",
            "Epcoh 5: 632.7231757044792\n",
            "Epcoh 6: 583.226630717516\n",
            "Epcoh 7: 542.9358608722687\n",
            "Epcoh 8: 509.6038581728935\n",
            "Epcoh 9: 477.48292845487595\n"
          ],
          "name": "stdout"
        }
      ]
    },
    {
      "cell_type": "code",
      "metadata": {
        "id": "bPmIoWCSMc59",
        "colab": {
          "base_uri": "https://localhost:8080/",
          "height": 67
        },
        "outputId": "9043be81-8c0f-4d29-b926-51b27dbfc1eb"
      },
      "source": [
        "model.eval()\n",
        "train_acc = get_model_acc(model, train_loader)\n",
        "test_acc = get_model_acc(model, test_loader)\n",
        "print(f'Training accuracy: {train_acc}, Testing accuracy: {test_acc}')\n",
        "train_accuracy.append(train_acc)\n",
        "test_accuracy.append(test_acc)"
      ],
      "execution_count": null,
      "outputs": [
        {
          "output_type": "stream",
          "text": [
            "tensor(36865, device='cuda:0')\n",
            "tensor(6395, device='cuda:0')\n",
            "Training accuracy: 73.72999572753906, Testing accuracy: 63.94999694824219\n"
          ],
          "name": "stdout"
        }
      ]
    },
    {
      "cell_type": "code",
      "metadata": {
        "id": "qJOIajgsTN9I",
        "colab": {
          "base_uri": "https://localhost:8080/",
          "height": 282
        },
        "outputId": "b3d75b86-2db3-4635-c63f-d604cf3c3bf1"
      },
      "source": [
        "import matplotlib.pyplot as plt\n",
        "plt.subplot(211)\n",
        "plt.plot([2,3,4,5],train_accuracy)\n",
        "plt.subplot(212)\n",
        "plt.plot([2,3,4,5],test_accuracy)"
      ],
      "execution_count": null,
      "outputs": [
        {
          "output_type": "execute_result",
          "data": {
            "text/plain": [
              "[<matplotlib.lines.Line2D at 0x7fc46a591160>]"
            ]
          },
          "metadata": {
            "tags": []
          },
          "execution_count": 48
        },
        {
          "output_type": "display_data",
          "data": {
            "image/png": "[encoded data removed]",
            "text/plain": [
              "<Figure size 432x288 with 2 Axes>"
            ]
          },
          "metadata": {
            "tags": []
          }
        }
      ]
    },
    {
      "cell_type": "code",
      "metadata": {
        "id": "tJTFZ5cQ7mOY",
        "colab": {
          "base_uri": "https://localhost:8080/",
          "height": 282
        },
        "outputId": "c015f75a-db03-480b-8cf6-c327716de826"
      },
      "source": [
        "import matplotlib.pyplot as plt\n",
        "plt.plot([2,3,4,5],time_1)"
      ],
      "execution_count": null,
      "outputs": [
        {
          "output_type": "execute_result",
          "data": {
            "text/plain": [
              "[<matplotlib.lines.Line2D at 0x7fc46a4d3fd0>]"
            ]
          },
          "metadata": {
            "tags": []
          },
          "execution_count": 49
        },
        {
          "output_type": "display_data",
          "data": {
            "image/png": "[encoded data removed]",
            "text/plain": [
              "<Figure size 432x288 with 1 Axes>"
            ]
          },
          "metadata": {
            "tags": []
          }
        }
      ]
    },
    {
      "cell_type": "markdown",
      "metadata": {
        "id": "Sh0AYVyLy1HM"
      },
      "source": [
        "### 3.2.3 Optimizer? Optimizer! [10 pts]\n",
        "So far, we only use SGD as our optimizer. Now, pick two other optimizers, train your CNN models, and compare the performance you get. What did you see?"
      ]
    },
    {
      "cell_type": "code",
      "metadata": {
        "id": "CB11gRtiMn73",
        "colab": {
          "base_uri": "https://localhost:8080/",
          "height": 183
        },
        "outputId": "96eeb890-beb6-48e9-8c57-b19f9f99855e"
      },
      "source": [
        "class CNNClassifier_ada(nn.Module):\n",
        "    \n",
        "    def __init__(self, D_in, D_out):\n",
        "        super(CNNClassifier_ada, self).__init__()\n",
        "        self.conv1 = nn.Conv2d(3,6,3)\n",
        "        self.conv2 = nn.Conv2d(6,16,3)        \n",
        "        self.conv3 = nn.Conv2d(16,32,3)\n",
        "        self.conv4 = nn.Conv2d(32,64,3)\n",
        "        self.conv5 = nn.Conv2d(64,128,3)\n",
        "        self.pool = nn.MaxPool2d(2)\n",
        "        self.linear1 = nn.Linear(128*4*4,D_out)\n",
        "\n",
        "        ################################################################################\n",
        "        # TODO:                                                                        #\n",
        "        # Construct a CNN with 2 or 3 convolutional layers and 1 linear layer for      #\n",
        "        # outputing class prediction. You are free to pick the hyperparameters         #\n",
        "        ################################################################################\n",
        "            \n",
        "        ################################################################################\n",
        "        #                                 END OF YOUR CODE                             #\n",
        "        ################################################################################\n",
        "        \n",
        "        \n",
        "    def forward(self, x):\n",
        "      y_pred = F.relu(self.conv1(x))\n",
        "      y_pred = self.pool(F.relu(self.conv2(y_pred)))\n",
        "      y_pred = F.relu(self.conv3(y_pred))\n",
        "      y_pred = F.relu(self.conv4(y_pred))\n",
        "      y_pred = self.pool(F.relu(self.conv5(y_pred)))\n",
        "      y_pred = y_pred.view(-1,128*4*4)\n",
        "      y_pred = self.linear1(y_pred)\n",
        "      return y_pred\n",
        "\n",
        "epoch = 10\n",
        "lr = 1e-1\n",
        "n_input = 3072\n",
        "n_classes = 10\n",
        "batch_size = 64\n",
        "num_workers = num_workers\n",
        "\n",
        "train_loader = torch.utils.data.DataLoader(trainset, batch_size=64, shuffle=True, num_workers=2)\n",
        "test_loader = torch.utils.data.DataLoader(testset, batch_size=100, shuffle=False, num_workers=2)\n",
        "\n",
        "model = CNNClassifier_ada(n_input,n_classes)\n",
        "model = model.cuda()\n",
        "\n",
        "criterion = nn.CrossEntropyLoss(reduction='mean')\n",
        "optim = torch.optim.Adagrad(model.parameters())\n",
        "\n",
        "for e in range(epoch):\n",
        "      loss_epoch = 0\n",
        "      for x, y in train_loader:\n",
        "        x = x.cuda()\n",
        "        y = y.cuda()\n",
        "        optim.zero_grad()\n",
        "        y_pred = model(x)\n",
        "        # !!WARNING!!\n",
        "        # THIS IS A CLASSIFICATION TASK, SO YOU SHOULD NOT\n",
        "        # USE THIS LOSS FUNCTION. \n",
        "        loss = criterion(y_pred, y)\n",
        "        loss.backward()\n",
        "        optim.step()\n",
        "        loss_epoch += loss.item()\n",
        "      print(f'Epcoh {e}: {loss_epoch}')\n",
        "################################################################################\n",
        "# TODO:                                                                        #\n",
        "# Your training code here.                                                     #\n",
        "################################################################################\n",
        "################################################################################\n",
        "#                                 END OF YOUR CODE                             #\n",
        "################################################################################"
      ],
      "execution_count": null,
      "outputs": [
        {
          "output_type": "stream",
          "text": [
            "Epcoh 0: 1236.6555669307709\n",
            "Epcoh 1: 982.8993709683418\n",
            "Epcoh 2: 883.0274670124054\n",
            "Epcoh 3: 823.5626972317696\n",
            "Epcoh 4: 780.1635112166405\n",
            "Epcoh 5: 746.6397703886032\n",
            "Epcoh 6: 719.2660573124886\n",
            "Epcoh 7: 695.1388225853443\n",
            "Epcoh 8: 673.7118336558342\n",
            "Epcoh 9: 655.0523284077644\n"
          ],
          "name": "stdout"
        }
      ]
    },
    {
      "cell_type": "code",
      "metadata": {
        "id": "5tL4ruKz0bSY",
        "colab": {
          "base_uri": "https://localhost:8080/",
          "height": 67
        },
        "outputId": "b56ad68c-d91d-4349-a4d0-6a9c4f3bfcd6"
      },
      "source": [
        "model.eval()\n",
        "train_acc = get_model_acc(model, train_loader)\n",
        "test_acc = get_model_acc(model, test_loader)\n",
        "print(f'Training accuracy: {train_acc}, Testing accuracy: {test_acc}')\n",
        "train_accuracy.append(train_acc)\n",
        "test_accuracy.append(test_acc)"
      ],
      "execution_count": null,
      "outputs": [
        {
          "output_type": "stream",
          "text": [
            "tensor(35925, device='cuda:0')\n",
            "tensor(6850, device='cuda:0')\n",
            "Training accuracy: 71.8499984741211, Testing accuracy: 68.5\n"
          ],
          "name": "stdout"
        }
      ]
    },
    {
      "cell_type": "code",
      "metadata": {
        "id": "-n6jIx1C0baV",
        "colab": {
          "base_uri": "https://localhost:8080/",
          "height": 183
        },
        "outputId": "00029ab4-314b-44f7-ff16-c1a705cd6973"
      },
      "source": [
        "class CNNClassifier_adam(nn.Module):\n",
        "    \n",
        "    def __init__(self, D_in, D_out):\n",
        "        super(CNNClassifier_adam, self).__init__()\n",
        "        self.conv1 = nn.Conv2d(3,6,3)\n",
        "        self.conv2 = nn.Conv2d(6,16,3)        \n",
        "        self.conv3 = nn.Conv2d(16,32,3)\n",
        "        self.conv4 = nn.Conv2d(32,64,3)\n",
        "        self.conv5 = nn.Conv2d(64,128,3)\n",
        "        self.pool = nn.MaxPool2d(2)\n",
        "        self.linear1 = nn.Linear(128*4*4,D_out)\n",
        "\n",
        "        ################################################################################\n",
        "        # TODO:                                                                        #\n",
        "        # Construct a CNN with 2 or 3 convolutional layers and 1 linear layer for      #\n",
        "        # outputing class prediction. You are free to pick the hyperparameters         #\n",
        "        ################################################################################\n",
        "            \n",
        "        ################################################################################\n",
        "        #                                 END OF YOUR CODE                             #\n",
        "        ################################################################################\n",
        "        \n",
        "        \n",
        "    def forward(self, x):\n",
        "      y_pred = F.relu(self.conv1(x))\n",
        "      y_pred = self.pool(F.relu(self.conv2(y_pred)))\n",
        "      y_pred = F.relu(self.conv3(y_pred))\n",
        "      y_pred = F.relu(self.conv4(y_pred))\n",
        "      y_pred = self.pool(F.relu(self.conv5(y_pred)))\n",
        "      y_pred = y_pred.view(-1,128*4*4)\n",
        "      y_pred = self.linear1(y_pred)\n",
        "      return y_pred\n",
        "\n",
        "epoch = 10\n",
        "lr = 1e-1\n",
        "n_input = 3072\n",
        "n_classes = 10\n",
        "batch_size = 64\n",
        "num_workers = num_workers\n",
        "\n",
        "train_loader = torch.utils.data.DataLoader(trainset, batch_size=64, shuffle=True, num_workers=2)\n",
        "test_loader = torch.utils.data.DataLoader(testset, batch_size=100, shuffle=False, num_workers=2)\n",
        "\n",
        "model = CNNClassifier_adam(n_input,n_classes)\n",
        "model = model.cuda()\n",
        "\n",
        "criterion = nn.CrossEntropyLoss(reduction='mean')\n",
        "optim = torch.optim.Adam(model.parameters())\n",
        "\n",
        "for e in range(epoch):\n",
        "      loss_epoch = 0\n",
        "      for x, y in train_loader:\n",
        "        x = x.cuda()\n",
        "        y = y.cuda()\n",
        "        optim.zero_grad()\n",
        "        y_pred = model(x)\n",
        "        # !!WARNING!!\n",
        "        # THIS IS A CLASSIFICATION TASK, SO YOU SHOULD NOT\n",
        "        # USE THIS LOSS FUNCTION. \n",
        "        loss = criterion(y_pred, y)\n",
        "        loss.backward()\n",
        "        optim.step()\n",
        "        loss_epoch += loss.item()\n",
        "      print(f'Epcoh {e}: {loss_epoch}')"
      ],
      "execution_count": null,
      "outputs": [
        {
          "output_type": "stream",
          "text": [
            "Epcoh 0: 1251.6062424778938\n",
            "Epcoh 1: 956.0297716856003\n",
            "Epcoh 2: 813.7990455627441\n",
            "Epcoh 3: 716.0887127220631\n",
            "Epcoh 4: 644.8697186112404\n",
            "Epcoh 5: 591.8074560463428\n",
            "Epcoh 6: 542.0932683944702\n",
            "Epcoh 7: 504.43871626257896\n",
            "Epcoh 8: 465.3019246906042\n",
            "Epcoh 9: 430.5632241368294\n"
          ],
          "name": "stdout"
        }
      ]
    },
    {
      "cell_type": "code",
      "metadata": {
        "id": "ypd-Ixhr0bi3",
        "colab": {
          "base_uri": "https://localhost:8080/",
          "height": 67
        },
        "outputId": "91a4269b-1fe8-4185-d5f1-fc5756832029"
      },
      "source": [
        "model.eval()\n",
        "train_acc = get_model_acc(model, train_loader)\n",
        "test_acc = get_model_acc(model, test_loader)\n",
        "print(f'Training accuracy: {train_acc}, Testing accuracy: {test_acc}')\n",
        "train_accuracy.append(train_acc)\n",
        "test_accuracy.append(test_acc)"
      ],
      "execution_count": null,
      "outputs": [
        {
          "output_type": "stream",
          "text": [
            "tensor(41230, device='cuda:0')\n",
            "tensor(7013, device='cuda:0')\n",
            "Training accuracy: 82.45999908447266, Testing accuracy: 70.12999725341797\n"
          ],
          "name": "stdout"
        }
      ]
    },
    {
      "cell_type": "markdown",
      "metadata": {
        "id": "JjteGy9iy1HZ"
      },
      "source": [
        "### 3.2.4 Improve Your Model [10 pts]\n",
        "Again, we want you to play with your model a bit harder, and improve it. You are free to use everything you can find in the documents (`BatchNorm`, `SeLU`, etc), as long as it is not a **predefined network architectures in PyTorch package**. You can also implement some famous network architectures to push the performance. \n",
        "\n",
        "(A simple network with 5-6 `nn.Conv2d` can give you at least 70% accuracy on testing set)."
      ]
    },
    {
      "cell_type": "code",
      "metadata": {
        "id": "zsqeD0g8Mn7-",
        "colab": {
          "base_uri": "https://localhost:8080/",
          "height": 183
        },
        "outputId": "a519ca5b-5e62-48fe-a84d-0fa461aeb754"
      },
      "source": [
        "class CNNClassifier_ImproveModel(nn.Module):\n",
        "    \n",
        "    def __init__(self, D_in, D_out):\n",
        "        super(CNNClassifier_ImproveModel, self).__init__()\n",
        "        self.conv1 = nn.Conv2d(3,6,3)\n",
        "        self.bn1 = nn.BatchNorm2d(num_features=6)\n",
        "        self.conv2 = nn.Conv2d(6,16,3)\n",
        "        self.bn2 = nn.BatchNorm2d(num_features=16)\n",
        "        self.conv3 = nn.Conv2d(16,32,3)\n",
        "        self.bn3 = nn.BatchNorm2d(num_features=32)\n",
        "        self.conv4 = nn.Conv2d(32,64,3)\n",
        "        self.bn4 = nn.BatchNorm2d(num_features=64)\n",
        "        self.conv5 = nn.Conv2d(64,128,3)\n",
        "        self.bn5 = nn.BatchNorm2d(num_features=128)\n",
        "        self.pool = nn.MaxPool2d(2)\n",
        "        self.linear1 = nn.Linear(128*4*4,D_out)\n",
        "\n",
        "        ################################################################################\n",
        "        # TODO:                                                                        #\n",
        "        # Construct a CNN with 2 or 3 convolutional layers and 1 linear layer for      #\n",
        "        # outputing class prediction. You are free to pick the hyperparameters         #\n",
        "        ################################################################################\n",
        "            \n",
        "        ################################################################################\n",
        "        #                                 END OF YOUR CODE                             #\n",
        "        ################################################################################\n",
        "        \n",
        "        \n",
        "    def forward(self, x):\n",
        "      y_pred = F.relu(self.bn1(self.conv1(x)))\n",
        "      y_pred = self.pool(F.relu(self.bn2(self.conv2(y_pred))))\n",
        "      y_pred = F.relu(self.bn3(self.conv3(y_pred)))\n",
        "      y_pred = F.relu(self.bn4(self.conv4(y_pred)))\n",
        "      y_pred = self.pool(F.relu(self.bn5(self.conv5(y_pred))))\n",
        "      y_pred = y_pred.view(-1,128*4*4)\n",
        "      y_pred = self.linear1(y_pred)\n",
        "      return y_pred\n",
        "\n",
        "epoch = 10\n",
        "lr = 1e-1\n",
        "n_input = 3072\n",
        "n_classes = 10\n",
        "batch_size = 64\n",
        "num_workers = num_workers\n",
        "\n",
        "train_loader = torch.utils.data.DataLoader(trainset, batch_size=64, shuffle=True, num_workers=2)\n",
        "test_loader = torch.utils.data.DataLoader(testset, batch_size=100, shuffle=False, num_workers=2)\n",
        "\n",
        "model = CNNClassifier_ImproveModel(n_input,n_classes)\n",
        "model = model.cuda()\n",
        "\n",
        "criterion = nn.CrossEntropyLoss(reduction='mean')\n",
        "optim = torch.optim.Adam(model.parameters())\n",
        "\n",
        "for e in range(epoch):\n",
        "      loss_epoch = 0\n",
        "      for x, y in train_loader:\n",
        "        x = x.cuda()\n",
        "        y = y.cuda()\n",
        "        optim.zero_grad()\n",
        "        y_pred = model(x)\n",
        "        # !!WARNING!!\n",
        "        # THIS IS A CLASSIFICATION TASK, SO YOU SHOULD NOT\n",
        "        # USE THIS LOSS FUNCTION. \n",
        "        loss = criterion(y_pred, y)\n",
        "        loss.backward()\n",
        "        optim.step()\n",
        "        loss_epoch += loss.item()\n",
        "      print(f'Epcoh {e}: {loss_epoch}')\n",
        "################################################################################\n",
        "# TODO:                                                                        #\n",
        "# Your training code here.                                                     #\n",
        "################################################################################\n",
        "################################################################################\n",
        "#                                 END OF YOUR CODE                             #\n",
        "################################################################################"
      ],
      "execution_count": null,
      "outputs": [
        {
          "output_type": "stream",
          "text": [
            "Epcoh 0: 1050.9518062472343\n",
            "Epcoh 1: 762.9772153496742\n",
            "Epcoh 2: 639.1645004153252\n",
            "Epcoh 3: 559.3497884571552\n",
            "Epcoh 4: 496.9156074821949\n",
            "Epcoh 5: 439.3301089257002\n",
            "Epcoh 6: 394.45936922729015\n",
            "Epcoh 7: 354.3145027756691\n",
            "Epcoh 8: 314.2956321835518\n",
            "Epcoh 9: 281.7990612834692\n"
          ],
          "name": "stdout"
        }
      ]
    },
    {
      "cell_type": "code",
      "metadata": {
        "id": "EFZH_LtU6Nvd",
        "colab": {
          "base_uri": "https://localhost:8080/",
          "height": 67
        },
        "outputId": "e0ef5c55-4ade-400e-a24e-2530c51c6155"
      },
      "source": [
        "model.eval()\n",
        "train_acc = get_model_acc(model, train_loader)\n",
        "test_acc = get_model_acc(model, test_loader)\n",
        "print(f'Training accuracy: {train_acc}, Testing accuracy: {test_acc}')\n",
        "train_accuracy.append(train_acc)\n",
        "test_accuracy.append(test_acc)"
      ],
      "execution_count": null,
      "outputs": [
        {
          "output_type": "stream",
          "text": [
            "tensor(45620, device='cuda:0')\n",
            "tensor(7589, device='cuda:0')\n",
            "Training accuracy: 91.23999786376953, Testing accuracy: 75.88999938964844\n"
          ],
          "name": "stdout"
        }
      ]
    }
  ]
}